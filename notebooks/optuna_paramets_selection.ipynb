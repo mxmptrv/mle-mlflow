{
 "cells": [
  {
   "cell_type": "code",
   "execution_count": 1,
   "metadata": {},
   "outputs": [],
   "source": [
    "import os\n",
    "import psycopg\n",
    "from dotenv import load_dotenv\n",
    "\n",
    "import pandas as pd\n",
    "import numpy as np\n",
    "import optuna\n",
    "from optuna.integration.mlflow import MLflowCallback\n",
    "import mlflow\n",
    "from catboost import CatBoostClassifier\n",
    "from sklearn.ensemble import GradientBoostingClassifier\n",
    "from collections import defaultdict\n",
    "import matplotlib.pyplot as plt\n",
    "from sklearn.model_selection import train_test_split, StratifiedKFold\n",
    "from sklearn.metrics import (\n",
    "    confusion_matrix,\n",
    "    precision_score,\n",
    "    recall_score,\n",
    "    f1_score,\n",
    "    roc_auc_score,\n",
    "    log_loss\n",
    ")"
   ]
  },
  {
   "cell_type": "code",
   "execution_count": 2,
   "metadata": {},
   "outputs": [
    {
     "data": {
      "text/plain": [
       "True"
      ]
     },
     "execution_count": 2,
     "metadata": {},
     "output_type": "execute_result"
    }
   ],
   "source": [
    "load_dotenv()"
   ]
  },
  {
   "cell_type": "code",
   "execution_count": 3,
   "metadata": {},
   "outputs": [],
   "source": [
    "TABLE_NAME = 'users_churn'\n",
    "\n",
    "TRACKING_SERVER_HOST = '127.0.0.1'\n",
    "TRACKING_SERVER_PORT = 5000\n",
    "\n",
    "EXPERIMENT_NAME = 'churn_fio'\n",
    "RUN_NAME = 'model_bayesian_search'\n",
    "REGISTRY_MODEL_NAME = 'churn_model_maximpetrov'\n",
    "\n",
    "STUDY_DB_NAME = \"sqlite:///local.study.db\"\n",
    "STUDY_NAME = \"churn_model\""
   ]
  },
  {
   "cell_type": "code",
   "execution_count": 4,
   "metadata": {},
   "outputs": [],
   "source": [
    "connection = {'sslmode' : 'require', 'target_session_attrs' : 'read-write'}\n",
    "\n",
    "postgres_credetials = {\n",
    "    'dbname' : os.getenv('DB_DESTINATION_NAME'),\n",
    "    'host' : os.getenv('DB_DESTINATION_HOST'),\n",
    "    'port' : os.getenv('DB_DESTINATION_PORT'),\n",
    "    'user' : os.getenv('DB_DESTINATION_USER'),\n",
    "    'password' : os.getenv('DB_DESTINATION_PASSWORD')\n",
    "}\n",
    "\n",
    "connection.update(postgres_credetials)"
   ]
  },
  {
   "cell_type": "code",
   "execution_count": 5,
   "metadata": {},
   "outputs": [],
   "source": [
    "mlflow.set_tracking_uri(f'http://{TRACKING_SERVER_HOST}:{TRACKING_SERVER_PORT}')\n",
    "mlflow.set_registry_uri(f'http://{TRACKING_SERVER_HOST}:{TRACKING_SERVER_PORT}')"
   ]
  },
  {
   "cell_type": "code",
   "execution_count": 6,
   "metadata": {},
   "outputs": [],
   "source": [
    "with psycopg.connect(**connection) as conn:\n",
    "    with conn.cursor() as cur:\n",
    "        cur.execute(f'SELECT * FROM {TABLE_NAME}')\n",
    "        data = cur.fetchall()\n",
    "        columns = [col[0] for col in cur.description]\n",
    "\n",
    "        df = pd.DataFrame(data, columns=columns)"
   ]
  },
  {
   "cell_type": "code",
   "execution_count": 7,
   "metadata": {},
   "outputs": [],
   "source": [
    "features = [\"monthly_charges\", \"total_charges\", \"senior_citizen\"]\n",
    "target = \"target\"\n",
    "\n",
    "split_column = 'total_charges' # ваш код здесь\n",
    "stratify_column = 'target' # ваш код здесь\n",
    "test_size = 0.25 # ваш код здесь\n",
    "\n",
    "df = df.sort_values(by=[split_column])"
   ]
  },
  {
   "cell_type": "code",
   "execution_count": 8,
   "metadata": {},
   "outputs": [
    {
     "name": "stdout",
     "output_type": "stream",
     "text": [
      "Размер выборки для обучения: (5282, 3)\n",
      "Размер выборки для теста: (1761, 3)\n"
     ]
    }
   ],
   "source": [
    "X_train, X_test, y_train, y_test = train_test_split(df[features], df[target], test_size=test_size, shuffle=False)\n",
    "\n",
    "print(f\"Размер выборки для обучения: {X_train.shape}\")\n",
    "print(f\"Размер выборки для теста: {X_test.shape}\")"
   ]
  },
  {
   "cell_type": "code",
   "execution_count": null,
   "metadata": {},
   "outputs": [],
   "source": [
    "GradientBoostingClassifier()"
   ]
  },
  {
   "cell_type": "code",
   "execution_count": 16,
   "metadata": {},
   "outputs": [],
   "source": [
    "# Функция оптимизации\n",
    "def objective(trial: optuna.Trial) -> float:\n",
    "    param = {\n",
    "        \"learning_rate\": trial.suggest_float(\"learning_rate\", 0.001, 0.1, log=True),\n",
    "        \"max_depth\": trial.suggest_int(\"max_depth\", 1, 12),\n",
    "        \"subsample\": trial.suggest_float(\"subsample\", 0.6, 1.0),\n",
    "        \"n_estimators\": trial.suggest_int(\"n_estimators\", 50, 500)\n",
    "    }\n",
    "\n",
    "    model = GradientBoostingClassifier(**param)\n",
    "    skf = StratifiedKFold(n_splits=2)\n",
    "    metrics = defaultdict(list)\n",
    "\n",
    "    metrics = defaultdict(list)\n",
    "    for i, (train_index, val_index) in enumerate(skf.split(X_train, y_train)):\n",
    "        # ваш код здесь #\n",
    "        train_x = X_train.iloc[train_index]\n",
    "        train_y = y_train.iloc[train_index]\n",
    "        val_x = X_train.iloc[val_index]\n",
    "        val_y = y_train.iloc[val_index]\n",
    "\n",
    "        model.fit(train_x, train_y)\n",
    "        prediction = model.predict(val_x)\n",
    "        probas = model.predict_proba(val_x)[:, 1]\n",
    "\n",
    "        _, err1, _, err2 = confusion_matrix(val_y, prediction, normalize='all').ravel()\n",
    "        auc = roc_auc_score(val_y, probas)\n",
    "        precision = precision_score(val_y, prediction)\n",
    "        recall = recall_score(val_y, prediction)\n",
    "        f1 = f1_score(val_y, prediction)\n",
    "        logloss = log_loss(val_y, probas)\n",
    "        \n",
    "        metrics[\"err1\"].append(err1)\n",
    "        metrics[\"err2\"].append(err2)\n",
    "        metrics[\"auc\"].append(auc)\n",
    "        metrics[\"precision\"].append(precision)\n",
    "        metrics[\"recall\"].append(recall)\n",
    "        metrics[\"f1\"].append(f1)\n",
    "        metrics[\"logloss\"].append(logloss)\n",
    "\n",
    "\n",
    "        # ваш код здесь #\n",
    "\n",
    "    metrics[\"err1\"] = np.mean(metrics[\"err1\"])\n",
    "    metrics[\"err2\"] = np.mean(metrics[\"err2\"])\n",
    "    metrics[\"auc\"] = np.mean(metrics[\"auc\"])\n",
    "    metrics[\"precision\"] = np.mean(metrics[\"precision\"])\n",
    "    metrics[\"recall\"] = np.mean(metrics[\"recall\"])\n",
    "    metrics[\"f1\"] = np.mean(metrics[\"f1\"])\n",
    "    metrics[\"logloss\"] = np.mean(metrics[\"logloss\"])\n",
    "\n",
    "    # Логирование в рамках основной сессии\n",
    "    with mlflow.start_run(nested=True):\n",
    "        mlflow.log_metrics(metrics)\n",
    "\n",
    "    return auc"
   ]
  },
  {
   "cell_type": "code",
   "execution_count": 17,
   "metadata": {},
   "outputs": [],
   "source": [
    "experiment = mlflow.get_experiment_by_name(EXPERIMENT_NAME)\n",
    "if not experiment:\n",
    "    experiment_id = mlflow.create_experiment(EXPERIMENT_NAME)\n",
    "else:\n",
    "    experiment_id = experiment.experiment_id"
   ]
  },
  {
   "cell_type": "code",
   "execution_count": 18,
   "metadata": {},
   "outputs": [
    {
     "name": "stderr",
     "output_type": "stream",
     "text": [
      "/tmp/ipykernel_3943/2056208062.py:6: ExperimentalWarning: MLflowCallback is experimental (supported from v1.4.0). The interface can change in the future.\n",
      "  mlflc = MLflowCallback(\n",
      "[I 2025-02-13 07:30:44,145] Using an existing study with name 'churn_model' instead of creating a new one.\n"
     ]
    },
    {
     "name": "stderr",
     "output_type": "stream",
     "text": [
      "/home/mle-user/mle_projects/mle-mlflow/.venv_mlflow/lib/python3.10/site-packages/sklearn/metrics/_classification.py:1469: UndefinedMetricWarning: Precision is ill-defined and being set to 0.0 due to no predicted samples. Use `zero_division` parameter to control this behavior.\n",
      "  _warn_prf(average, modifier, msg_start, len(result))\n",
      "[I 2025-02-13 07:30:46,229] Trial 149 finished with value: 0.7528148682298672 and parameters: {'learning_rate': 0.006420357616406174, 'max_depth': 2, 'subsample': 0.8658328505425352, 'n_estimators': 435}. Best is trial 115 with value: 0.8202623249231633.\n",
      "/home/mle-user/mle_projects/mle-mlflow/.venv_mlflow/lib/python3.10/site-packages/sklearn/metrics/_classification.py:1469: UndefinedMetricWarning: Precision is ill-defined and being set to 0.0 due to no predicted samples. Use `zero_division` parameter to control this behavior.\n",
      "  _warn_prf(average, modifier, msg_start, len(result))\n",
      "[I 2025-02-13 07:30:50,259] Trial 150 finished with value: 0.2907872313417921 and parameters: {'learning_rate': 0.007794385993340935, 'max_depth': 8, 'subsample': 0.7106961448961384, 'n_estimators': 276}. Best is trial 115 with value: 0.8202623249231633.\n",
      "/home/mle-user/mle_projects/mle-mlflow/.venv_mlflow/lib/python3.10/site-packages/sklearn/metrics/_classification.py:1469: UndefinedMetricWarning: Precision is ill-defined and being set to 0.0 due to no predicted samples. Use `zero_division` parameter to control this behavior.\n",
      "  _warn_prf(average, modifier, msg_start, len(result))\n",
      "[I 2025-02-13 07:30:52,253] Trial 151 finished with value: 0.3087962437814976 and parameters: {'learning_rate': 0.009116302797988645, 'max_depth': 5, 'subsample': 0.6501779895895798, 'n_estimators': 234}. Best is trial 115 with value: 0.8202623249231633.\n",
      "/home/mle-user/mle_projects/mle-mlflow/.venv_mlflow/lib/python3.10/site-packages/sklearn/metrics/_classification.py:1469: UndefinedMetricWarning: Precision is ill-defined and being set to 0.0 due to no predicted samples. Use `zero_division` parameter to control this behavior.\n",
      "  _warn_prf(average, modifier, msg_start, len(result))\n",
      "[I 2025-02-13 07:30:55,335] Trial 152 finished with value: 0.5024752475247525 and parameters: {'learning_rate': 0.007704303244177476, 'max_depth': 11, 'subsample': 0.8196300500700393, 'n_estimators': 118}. Best is trial 115 with value: 0.8202623249231633.\n",
      "/home/mle-user/mle_projects/mle-mlflow/.venv_mlflow/lib/python3.10/site-packages/sklearn/metrics/_classification.py:1469: UndefinedMetricWarning: Precision is ill-defined and being set to 0.0 due to no predicted samples. Use `zero_division` parameter to control this behavior.\n",
      "  _warn_prf(average, modifier, msg_start, len(result))\n",
      "[I 2025-02-13 07:30:57,003] Trial 153 finished with value: 0.7518804048981004 and parameters: {'learning_rate': 0.0057032556857404436, 'max_depth': 2, 'subsample': 0.7297461029591787, 'n_estimators': 357}. Best is trial 115 with value: 0.8202623249231633.\n",
      "/home/mle-user/mle_projects/mle-mlflow/.venv_mlflow/lib/python3.10/site-packages/sklearn/metrics/_classification.py:1469: UndefinedMetricWarning: Precision is ill-defined and being set to 0.0 due to no predicted samples. Use `zero_division` parameter to control this behavior.\n",
      "  _warn_prf(average, modifier, msg_start, len(result))\n",
      "[I 2025-02-13 07:31:03,441] Trial 154 finished with value: 0.2689937774464844 and parameters: {'learning_rate': 0.004933324255774299, 'max_depth': 8, 'subsample': 0.7831615824671511, 'n_estimators': 458}. Best is trial 115 with value: 0.8202623249231633.\n",
      "/home/mle-user/mle_projects/mle-mlflow/.venv_mlflow/lib/python3.10/site-packages/sklearn/metrics/_classification.py:1469: UndefinedMetricWarning: Precision is ill-defined and being set to 0.0 due to no predicted samples. Use `zero_division` parameter to control this behavior.\n",
      "  _warn_prf(average, modifier, msg_start, len(result))\n",
      "[I 2025-02-13 07:31:06,317] Trial 155 finished with value: 0.29414529014276225 and parameters: {'learning_rate': 0.009554864758377163, 'max_depth': 5, 'subsample': 0.8589447668073182, 'n_estimators': 305}. Best is trial 115 with value: 0.8202623249231633.\n",
      "/home/mle-user/mle_projects/mle-mlflow/.venv_mlflow/lib/python3.10/site-packages/sklearn/metrics/_classification.py:1469: UndefinedMetricWarning: Precision is ill-defined and being set to 0.0 due to no predicted samples. Use `zero_division` parameter to control this behavior.\n",
      "  _warn_prf(average, modifier, msg_start, len(result))\n",
      "[I 2025-02-13 07:31:07,581] Trial 156 finished with value: 0.7498433558576808 and parameters: {'learning_rate': 0.006627603016240671, 'max_depth': 2, 'subsample': 0.838704031510817, 'n_estimators': 198}. Best is trial 115 with value: 0.8202623249231633.\n",
      "/home/mle-user/mle_projects/mle-mlflow/.venv_mlflow/lib/python3.10/site-packages/sklearn/metrics/_classification.py:1469: UndefinedMetricWarning: Precision is ill-defined and being set to 0.0 due to no predicted samples. Use `zero_division` parameter to control this behavior.\n",
      "  _warn_prf(average, modifier, msg_start, len(result))\n",
      "[I 2025-02-13 07:31:13,686] Trial 157 finished with value: 0.3058247314093111 and parameters: {'learning_rate': 0.008540711644373077, 'max_depth': 11, 'subsample': 0.7866438341367921, 'n_estimators': 258}. Best is trial 115 with value: 0.8202623249231633.\n",
      "/home/mle-user/mle_projects/mle-mlflow/.venv_mlflow/lib/python3.10/site-packages/sklearn/metrics/_classification.py:1469: UndefinedMetricWarning: Precision is ill-defined and being set to 0.0 due to no predicted samples. Use `zero_division` parameter to control this behavior.\n",
      "  _warn_prf(average, modifier, msg_start, len(result))\n",
      "[I 2025-02-13 07:31:14,551] Trial 158 finished with value: 0.2977788265733283 and parameters: {'learning_rate': 0.009736421064190167, 'max_depth': 4, 'subsample': 0.6198978908554797, 'n_estimators': 89}. Best is trial 115 with value: 0.8202623249231633.\n"
     ]
    },
    {
     "name": "stdout",
     "output_type": "stream",
     "text": [
      "{'learning_rate': 0.00696004098637908, 'depth': 3, 'l2_leaf_reg': 0.40161692596830334, 'random_strength': 4.93136278930477}\n"
     ]
    },
    {
     "ename": "TypeError",
     "evalue": "GradientBoostingClassifier.__init__() got an unexpected keyword argument 'depth'",
     "output_type": "error",
     "traceback": [
      "\u001b[0;31m---------------------------------------------------------------------------\u001b[0m",
      "\u001b[0;31mTypeError\u001b[0m                                 Traceback (most recent call last)",
      "Cell \u001b[0;32mIn[18], line 35\u001b[0m\n\u001b[1;32m     33\u001b[0m \u001b[38;5;66;03m# Логирование лучшей модели в MLflow\u001b[39;00m\n\u001b[1;32m     34\u001b[0m best_params \u001b[38;5;241m=\u001b[39m {\u001b[38;5;241m*\u001b[39m\u001b[38;5;241m*\u001b[39mstudy\u001b[38;5;241m.\u001b[39mbest_params}\n\u001b[0;32m---> 35\u001b[0m best_model \u001b[38;5;241m=\u001b[39m \u001b[43mGradientBoostingClassifier\u001b[49m\u001b[43m(\u001b[49m\u001b[38;5;241;43m*\u001b[39;49m\u001b[38;5;241;43m*\u001b[39;49m\u001b[43mbest_params\u001b[49m\u001b[43m)\u001b[49m\n\u001b[1;32m     36\u001b[0m best_model\u001b[38;5;241m.\u001b[39mfit(X_train, y_train)\n\u001b[1;32m     38\u001b[0m metrics \u001b[38;5;241m=\u001b[39m {}\n",
      "\u001b[0;31mTypeError\u001b[0m: GradientBoostingClassifier.__init__() got an unexpected keyword argument 'depth'"
     ]
    }
   ],
   "source": [
    "# Определяем родительский run ID\n",
    "with mlflow.start_run(run_name=RUN_NAME, experiment_id=experiment_id) as parent_run:\n",
    "    parent_run_id = parent_run.info.run_id\n",
    "\n",
    "    # Создаем Optuna callback для использования MLflow\n",
    "    mlflc = MLflowCallback(\n",
    "        tracking_uri=f\"http://{TRACKING_SERVER_HOST}:{TRACKING_SERVER_PORT}\",\n",
    "        metric_name=\"AUC\",\n",
    "        create_experiment=False,\n",
    "        mlflow_kwargs={\n",
    "            \"experiment_id\": experiment_id,\n",
    "            \"tags\": {'MLFLOW_PARENT_RUN_ID': parent_run_id},\n",
    "            \"nested\": True,  # Используйте вложенные запуски\n",
    "        },\n",
    "    )\n",
    "\n",
    "    # Создаем Optuna study\n",
    "    study = optuna.create_study(\n",
    "        direction=\"maximize\",\n",
    "        study_name=STUDY_NAME,\n",
    "        storage=STUDY_DB_NAME,\n",
    "        sampler=optuna.samplers.TPESampler(),\n",
    "        load_if_exists=True,  # Убедитесь, что не создается новая study\n",
    "    )\n",
    "\n",
    "    # Оптимизируем с указанием Optuna callback\n",
    "    study.optimize(\n",
    "        objective, \n",
    "        n_trials=10, \n",
    "        callbacks=[mlflc]\n",
    "    )\n",
    "    print(study.best_params)\n",
    "    # Логирование лучшей модели в MLflow\n",
    "    best_params = {**study.best_params}\n",
    "    best_model = GradientBoostingClassifier(**best_params)\n",
    "    best_model.fit(X_train, y_train)\n",
    "\n",
    "    metrics = {}\n",
    "\n",
    "    prediction = best_model.predict(X_test)\n",
    "    probas = best_model.predict_proba(X_test)[:, 1]\n",
    "\n",
    "    _, err1, _, err2 = confusion_matrix(y_test, prediction, normalize='all').ravel()\n",
    "    auc = roc_auc_score(y_test, probas)\n",
    "    precision = precision_score(y_test, prediction)\n",
    "    recall = recall_score(y_test, prediction)\n",
    "    f1 = f1_score(y_test, prediction)\n",
    "    logloss = log_loss(y_test, probas)\n",
    "\n",
    "    metrics[\"err1\"] = err1\n",
    "    metrics[\"err2\"] = err2\n",
    "    metrics[\"auc\"] = auc\n",
    "    metrics[\"precision\"] = precision\n",
    "    metrics[\"recall\"] = recall\n",
    "    metrics[\"f1\"] = f1\n",
    "    metrics[\"logloss\"] = logloss\n",
    "\n",
    "    signature = mlflow.models.infer_signature(X_test, best_model.predict(X_test))\n",
    "    input_example = X_test[:10]\n",
    "\n",
    "    mlflow.sklearn.log_model(\n",
    "        best_model,\n",
    "        artifact_path=\"cv\",\n",
    "        signature=signature,\n",
    "        input_example=input_example,\n",
    "    )\n",
    "    mlflow.log_params(best_params)\n",
    "    #mlflow.log_metrics(metrics)"
   ]
  }
 ],
 "metadata": {
  "kernelspec": {
   "display_name": "Python (.venv_mlflow)",
   "language": "python",
   "name": ".venv_mlflow"
  },
  "language_info": {
   "codemirror_mode": {
    "name": "ipython",
    "version": 3
   },
   "file_extension": ".py",
   "mimetype": "text/x-python",
   "name": "python",
   "nbconvert_exporter": "python",
   "pygments_lexer": "ipython3",
   "version": "3.10.12"
  }
 },
 "nbformat": 4,
 "nbformat_minor": 2
}
