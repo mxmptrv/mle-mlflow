{
 "cells": [
  {
   "cell_type": "code",
   "execution_count": 57,
   "metadata": {},
   "outputs": [],
   "source": [
    "import os\n",
    "import psycopg\n",
    "from dotenv import load_dotenv\n",
    "\n",
    "import pandas as pd\n",
    "import numpy as np\n",
    "import optuna\n",
    "from optuna.integration.mlflow import MLflowCallback\n",
    "import mlflow\n",
    "from catboost import CatBoostClassifier\n",
    "from sklearn.ensemble import GradientBoostingClassifier\n",
    "from collections import defaultdict\n",
    "import matplotlib.pyplot as plt\n",
    "from sklearn.model_selection import train_test_split, StratifiedKFold\n",
    "from sklearn.metrics import (\n",
    "    confusion_matrix,\n",
    "    precision_score,\n",
    "    recall_score,\n",
    "    f1_score,\n",
    "    roc_auc_score,\n",
    "    log_loss\n",
    ")"
   ]
  },
  {
   "cell_type": "code",
   "execution_count": 58,
   "metadata": {},
   "outputs": [
    {
     "data": {
      "text/plain": [
       "True"
      ]
     },
     "execution_count": 58,
     "metadata": {},
     "output_type": "execute_result"
    }
   ],
   "source": [
    "load_dotenv()"
   ]
  },
  {
   "cell_type": "code",
   "execution_count": 59,
   "metadata": {},
   "outputs": [],
   "source": [
    "TABLE_NAME = 'users_churn'\n",
    "\n",
    "TRACKING_SERVER_HOST = '127.0.0.1'\n",
    "TRACKING_SERVER_PORT = 5000\n",
    "\n",
    "EXPERIMENT_NAME = 'churn_fio'\n",
    "RUN_NAME = 'model_bayesian_search'\n",
    "REGISTRY_MODEL_NAME = 'churn_model_maximpetrov'\n",
    "\n",
    "STUDY_DB_NAME = \"sqlite:///local.study.db\"\n",
    "STUDY_NAME = \"churn_model_gb\""
   ]
  },
  {
   "cell_type": "code",
   "execution_count": 60,
   "metadata": {},
   "outputs": [],
   "source": [
    "connection = {'sslmode' : 'require', 'target_session_attrs' : 'read-write'}\n",
    "\n",
    "postgres_credetials = {\n",
    "    'dbname' : os.getenv('DB_DESTINATION_NAME'),\n",
    "    'host' : os.getenv('DB_DESTINATION_HOST'),\n",
    "    'port' : os.getenv('DB_DESTINATION_PORT'),\n",
    "    'user' : os.getenv('DB_DESTINATION_USER'),\n",
    "    'password' : os.getenv('DB_DESTINATION_PASSWORD')\n",
    "}\n",
    "\n",
    "connection.update(postgres_credetials)"
   ]
  },
  {
   "cell_type": "code",
   "execution_count": 61,
   "metadata": {},
   "outputs": [],
   "source": [
    "mlflow.set_tracking_uri(f'http://{TRACKING_SERVER_HOST}:{TRACKING_SERVER_PORT}')\n",
    "mlflow.set_registry_uri(f'http://{TRACKING_SERVER_HOST}:{TRACKING_SERVER_PORT}')"
   ]
  },
  {
   "cell_type": "code",
   "execution_count": 62,
   "metadata": {},
   "outputs": [],
   "source": [
    "with psycopg.connect(**connection) as conn:\n",
    "    with conn.cursor() as cur:\n",
    "        cur.execute(f'SELECT * FROM {TABLE_NAME}')\n",
    "        data = cur.fetchall()\n",
    "        columns = [col[0] for col in cur.description]\n",
    "\n",
    "        df = pd.DataFrame(data, columns=columns)"
   ]
  },
  {
   "cell_type": "code",
   "execution_count": 63,
   "metadata": {},
   "outputs": [],
   "source": [
    "columns_without_datetime = df.select_dtypes(exclude='datetime').columns\n",
    "df = df.dropna(subset=columns_without_datetime)"
   ]
  },
  {
   "cell_type": "code",
   "execution_count": 64,
   "metadata": {},
   "outputs": [],
   "source": [
    "features = [\"monthly_charges\", \"total_charges\", \"senior_citizen\"]\n",
    "target = \"target\"\n",
    "\n",
    "split_column = 'total_charges' # ваш код здесь\n",
    "stratify_column = 'target' # ваш код здесь\n",
    "test_size = 0.25 # ваш код здесь\n",
    "\n",
    "df = df.sort_values(by=[split_column])"
   ]
  },
  {
   "cell_type": "code",
   "execution_count": 65,
   "metadata": {},
   "outputs": [
    {
     "name": "stdout",
     "output_type": "stream",
     "text": [
      "Размер выборки для обучения: (3624, 3)\n",
      "Размер выборки для теста: (1208, 3)\n"
     ]
    }
   ],
   "source": [
    "X_train, X_test, y_train, y_test = train_test_split(df[features], df[target], test_size=test_size, shuffle=False)\n",
    "\n",
    "print(f\"Размер выборки для обучения: {X_train.shape}\")\n",
    "print(f\"Размер выборки для теста: {X_test.shape}\")"
   ]
  },
  {
   "cell_type": "code",
   "execution_count": 66,
   "metadata": {},
   "outputs": [],
   "source": [
    "# Функция оптимизации\n",
    "def objective(trial: optuna.Trial) -> float:\n",
    "    param = {\n",
    "        \"learning_rate\": trial.suggest_float(\"learning_rate\", 0.001, 0.1, log=True),\n",
    "        \"max_depth\": trial.suggest_int(\"max_depth\", 1, 12),\n",
    "        \"subsample\": trial.suggest_float(\"subsample\", 0.6, 1.0),\n",
    "        \"n_estimators\": trial.suggest_int(\"n_estimators\", 50, 500)\n",
    "    }\n",
    "\n",
    "    model = GradientBoostingClassifier(**param)\n",
    "    skf = StratifiedKFold(n_splits=2)\n",
    "    metrics = defaultdict(list)\n",
    "\n",
    "    metrics = defaultdict(list)\n",
    "    for i, (train_index, val_index) in enumerate(skf.split(X_train, y_train)):\n",
    "        # ваш код здесь #\n",
    "        train_x = X_train.iloc[train_index]\n",
    "        train_y = y_train.iloc[train_index]\n",
    "        val_x = X_train.iloc[val_index]\n",
    "        val_y = y_train.iloc[val_index]\n",
    "\n",
    "        model.fit(train_x, train_y)\n",
    "        prediction = model.predict(val_x)\n",
    "        probas = model.predict_proba(val_x)[:, 1]\n",
    "\n",
    "        _, err1, _, err2 = confusion_matrix(val_y, prediction, normalize='all').ravel()\n",
    "        auc = roc_auc_score(val_y, probas)\n",
    "        precision = precision_score(val_y, prediction)\n",
    "        recall = recall_score(val_y, prediction)\n",
    "        f1 = f1_score(val_y, prediction)\n",
    "        logloss = log_loss(val_y, probas)\n",
    "        \n",
    "        metrics[\"err1\"].append(err1)\n",
    "        metrics[\"err2\"].append(err2)\n",
    "        metrics[\"auc\"].append(auc)\n",
    "        metrics[\"precision\"].append(precision)\n",
    "        metrics[\"recall\"].append(recall)\n",
    "        metrics[\"f1\"].append(f1)\n",
    "        metrics[\"logloss\"].append(logloss)\n",
    "\n",
    "\n",
    "        # ваш код здесь #\n",
    "\n",
    "    metrics[\"err1\"] = np.mean(metrics[\"err1\"])\n",
    "    metrics[\"err2\"] = np.mean(metrics[\"err2\"])\n",
    "    metrics[\"auc\"] = np.mean(metrics[\"auc\"])\n",
    "    metrics[\"precision\"] = np.mean(metrics[\"precision\"])\n",
    "    metrics[\"recall\"] = np.mean(metrics[\"recall\"])\n",
    "    metrics[\"f1\"] = np.mean(metrics[\"f1\"])\n",
    "    metrics[\"logloss\"] = np.mean(metrics[\"logloss\"])\n",
    "\n",
    "    return auc"
   ]
  },
  {
   "cell_type": "code",
   "execution_count": 67,
   "metadata": {},
   "outputs": [],
   "source": [
    "experiment = mlflow.get_experiment_by_name(EXPERIMENT_NAME)\n",
    "if not experiment:\n",
    "    experiment_id = mlflow.create_experiment(EXPERIMENT_NAME)\n",
    "else:\n",
    "    experiment_id = experiment.experiment_id"
   ]
  },
  {
   "cell_type": "code",
   "execution_count": 68,
   "metadata": {},
   "outputs": [
    {
     "name": "stderr",
     "output_type": "stream",
     "text": [
      "/tmp/ipykernel_6044/2824592730.py:6: ExperimentalWarning: MLflowCallback is experimental (supported from v1.4.0). The interface can change in the future.\n",
      "  mlflc = MLflowCallback(\n",
      "[I 2025-02-13 07:56:52,139] A new study created in RDB with name: churn_model_gb\n",
      "/home/mle-user/mle_projects/mle-mlflow/.venv_mlflow/lib/python3.10/site-packages/sklearn/metrics/_classification.py:1469: UndefinedMetricWarning: Precision is ill-defined and being set to 0.0 due to no predicted samples. Use `zero_division` parameter to control this behavior.\n",
      "  _warn_prf(average, modifier, msg_start, len(result))\n",
      "[I 2025-02-13 07:56:54,704] Trial 0 finished with value: 0.3901401487715425 and parameters: {'learning_rate': 0.019561606107542383, 'max_depth': 11, 'subsample': 0.7901793340078577, 'n_estimators': 136}. Best is trial 0 with value: 0.3901401487715425.\n",
      "/home/mle-user/mle_projects/mle-mlflow/.venv_mlflow/lib/python3.10/site-packages/sklearn/metrics/_classification.py:1469: UndefinedMetricWarning: Precision is ill-defined and being set to 0.0 due to no predicted samples. Use `zero_division` parameter to control this behavior.\n",
      "  _warn_prf(average, modifier, msg_start, len(result))\n",
      "[I 2025-02-13 07:56:55,151] Trial 1 finished with value: 0.6213166396486508 and parameters: {'learning_rate': 0.03584558192753426, 'max_depth': 1, 'subsample': 0.706037769666984, 'n_estimators': 95}. Best is trial 1 with value: 0.6213166396486508.\n",
      "/home/mle-user/mle_projects/mle-mlflow/.venv_mlflow/lib/python3.10/site-packages/sklearn/metrics/_classification.py:1469: UndefinedMetricWarning: Precision is ill-defined and being set to 0.0 due to no predicted samples. Use `zero_division` parameter to control this behavior.\n",
      "  _warn_prf(average, modifier, msg_start, len(result))\n",
      "[I 2025-02-13 07:56:56,855] Trial 2 finished with value: 0.6188039003028828 and parameters: {'learning_rate': 0.09502932665982165, 'max_depth': 2, 'subsample': 0.8795652491610209, 'n_estimators': 466}. Best is trial 1 with value: 0.6213166396486508.\n",
      "/home/mle-user/mle_projects/mle-mlflow/.venv_mlflow/lib/python3.10/site-packages/sklearn/metrics/_classification.py:1469: UndefinedMetricWarning: Precision is ill-defined and being set to 0.0 due to no predicted samples. Use `zero_division` parameter to control this behavior.\n",
      "  _warn_prf(average, modifier, msg_start, len(result))\n",
      "[I 2025-02-13 07:56:58,760] Trial 3 finished with value: 0.5 and parameters: {'learning_rate': 0.003890862000241796, 'max_depth': 4, 'subsample': 0.9894838697428031, 'n_estimators': 285}. Best is trial 1 with value: 0.6213166396486508.\n",
      "/home/mle-user/mle_projects/mle-mlflow/.venv_mlflow/lib/python3.10/site-packages/sklearn/metrics/_classification.py:1469: UndefinedMetricWarning: Precision is ill-defined and being set to 0.0 due to no predicted samples. Use `zero_division` parameter to control this behavior.\n",
      "  _warn_prf(average, modifier, msg_start, len(result))\n",
      "[I 2025-02-13 07:57:00,750] Trial 4 finished with value: 0.4695820574825852 and parameters: {'learning_rate': 0.06134823310443191, 'max_depth': 3, 'subsample': 0.761334364589468, 'n_estimators': 442}. Best is trial 1 with value: 0.6213166396486508.\n",
      "/home/mle-user/mle_projects/mle-mlflow/.venv_mlflow/lib/python3.10/site-packages/sklearn/metrics/_classification.py:1469: UndefinedMetricWarning: Precision is ill-defined and being set to 0.0 due to no predicted samples. Use `zero_division` parameter to control this behavior.\n",
      "  _warn_prf(average, modifier, msg_start, len(result))\n",
      "[I 2025-02-13 07:57:01,283] Trial 5 finished with value: 0.6346844896149901 and parameters: {'learning_rate': 0.04866311391547348, 'max_depth': 1, 'subsample': 0.6620849831564267, 'n_estimators': 113}. Best is trial 5 with value: 0.6346844896149901.\n",
      "/home/mle-user/mle_projects/mle-mlflow/.venv_mlflow/lib/python3.10/site-packages/sklearn/metrics/_classification.py:1469: UndefinedMetricWarning: Precision is ill-defined and being set to 0.0 due to no predicted samples. Use `zero_division` parameter to control this behavior.\n",
      "  _warn_prf(average, modifier, msg_start, len(result))\n",
      "[I 2025-02-13 07:57:04,774] Trial 6 finished with value: 0.6231568028553507 and parameters: {'learning_rate': 0.001706062267409316, 'max_depth': 7, 'subsample': 0.7358225602494892, 'n_estimators': 385}. Best is trial 5 with value: 0.6346844896149901.\n",
      "/home/mle-user/mle_projects/mle-mlflow/.venv_mlflow/lib/python3.10/site-packages/sklearn/metrics/_classification.py:1469: UndefinedMetricWarning: Precision is ill-defined and being set to 0.0 due to no predicted samples. Use `zero_division` parameter to control this behavior.\n",
      "  _warn_prf(average, modifier, msg_start, len(result))\n",
      "[I 2025-02-13 07:57:06,644] Trial 7 finished with value: 0.47363731475413595 and parameters: {'learning_rate': 0.0074039199095858165, 'max_depth': 4, 'subsample': 0.8546115163840098, 'n_estimators': 301}. Best is trial 5 with value: 0.6346844896149901.\n",
      "/home/mle-user/mle_projects/mle-mlflow/.venv_mlflow/lib/python3.10/site-packages/sklearn/metrics/_classification.py:1469: UndefinedMetricWarning: Precision is ill-defined and being set to 0.0 due to no predicted samples. Use `zero_division` parameter to control this behavior.\n",
      "  _warn_prf(average, modifier, msg_start, len(result))\n",
      "[I 2025-02-13 07:57:07,375] Trial 8 finished with value: 0.5428973277074542 and parameters: {'learning_rate': 0.01194855566805425, 'max_depth': 3, 'subsample': 0.944745313766602, 'n_estimators': 109}. Best is trial 5 with value: 0.6346844896149901.\n",
      "/home/mle-user/mle_projects/mle-mlflow/.venv_mlflow/lib/python3.10/site-packages/sklearn/metrics/_classification.py:1469: UndefinedMetricWarning: Precision is ill-defined and being set to 0.0 due to no predicted samples. Use `zero_division` parameter to control this behavior.\n",
      "  _warn_prf(average, modifier, msg_start, len(result))\n",
      "[I 2025-02-13 07:57:10,254] Trial 9 finished with value: 0.3636867647490901 and parameters: {'learning_rate': 0.008477034947315769, 'max_depth': 5, 'subsample': 0.653492740629649, 'n_estimators': 471}. Best is trial 5 with value: 0.6346844896149901.\n"
     ]
    },
    {
     "name": "stdout",
     "output_type": "stream",
     "text": [
      "{'learning_rate': 0.04866311391547348, 'max_depth': 1, 'subsample': 0.6620849831564267, 'n_estimators': 113}\n"
     ]
    },
    {
     "name": "stderr",
     "output_type": "stream",
     "text": [
      "/home/mle-user/mle_projects/mle-mlflow/.venv_mlflow/lib/python3.10/site-packages/sklearn/metrics/_classification.py:1469: UndefinedMetricWarning: Precision is ill-defined and being set to 0.0 due to no predicted samples. Use `zero_division` parameter to control this behavior.\n",
      "  _warn_prf(average, modifier, msg_start, len(result))\n",
      "/home/mle-user/mle_projects/mle-mlflow/.venv_mlflow/lib/python3.10/site-packages/mlflow/models/signature.py:212: UserWarning: Hint: Inferred schema contains integer column(s). Integer columns in Python cannot represent missing values. If your input data contains missing values at inference time, it will be encoded as floats and will cause a schema enforcement error. The best way to avoid this problem is to infer the model schema based on a realistic data sample (training dataset) that includes missing values. Alternatively, you can declare integer columns as doubles (float64) whenever these columns may have missing values. See `Handling Integers With Missing Values <https://www.mlflow.org/docs/latest/models.html#handling-integers-with-missing-values>`_ for more details.\n",
      "  inputs = _infer_schema(model_input) if model_input is not None else None\n"
     ]
    }
   ],
   "source": [
    "# Определяем родительский run ID\n",
    "with mlflow.start_run(run_name=RUN_NAME, experiment_id=experiment_id) as parent_run:\n",
    "    parent_run_id = parent_run.info.run_id\n",
    "\n",
    "    # Создаем Optuna callback для использования MLflow\n",
    "    mlflc = MLflowCallback(\n",
    "        tracking_uri=f\"http://{TRACKING_SERVER_HOST}:{TRACKING_SERVER_PORT}\",\n",
    "        metric_name=\"AUC\",\n",
    "        create_experiment=False,\n",
    "        mlflow_kwargs={\n",
    "            \"experiment_id\": experiment_id,\n",
    "            \"tags\": {'MLFLOW_PARENT_RUN_ID': parent_run_id},\n",
    "            \"nested\": True,  # Используйте вложенные запуски\n",
    "        },\n",
    "    )\n",
    "\n",
    "    # Создаем Optuna study\n",
    "    study = optuna.create_study(\n",
    "        direction=\"maximize\",\n",
    "        study_name=STUDY_NAME,\n",
    "        storage=STUDY_DB_NAME,\n",
    "        sampler=optuna.samplers.TPESampler(),\n",
    "        load_if_exists=True,  # Убедитесь, что не создается новая study\n",
    "    )\n",
    "\n",
    "    # Оптимизируем с указанием Optuna callback\n",
    "    study.optimize(\n",
    "        objective, \n",
    "        n_trials=10, \n",
    "        callbacks=[mlflc]\n",
    "    )\n",
    "    print(study.best_params)\n",
    "    # Логирование лучшей модели в MLflow\n",
    "    best_params = {**study.best_params}\n",
    "    best_model = GradientBoostingClassifier(**best_params)\n",
    "    best_model.fit(X_train, y_train)\n",
    "\n",
    "    metrics = {}\n",
    "\n",
    "    prediction = best_model.predict(X_test)\n",
    "    probas = best_model.predict_proba(X_test)[:, 1]\n",
    "\n",
    "    _, err1, _, err2 = confusion_matrix(y_test, prediction, normalize='all').ravel()\n",
    "    auc = roc_auc_score(y_test, probas)\n",
    "    precision = precision_score(y_test, prediction)\n",
    "    recall = recall_score(y_test, prediction)\n",
    "    f1 = f1_score(y_test, prediction)\n",
    "    logloss = log_loss(y_test, probas)\n",
    "\n",
    "    metrics[\"err1\"] = err1\n",
    "    metrics[\"err2\"] = err2\n",
    "    metrics[\"auc\"] = auc\n",
    "    metrics[\"precision\"] = precision\n",
    "    metrics[\"recall\"] = recall\n",
    "    metrics[\"f1\"] = f1\n",
    "    metrics[\"logloss\"] = logloss\n",
    "\n",
    "    signature = mlflow.models.infer_signature(X_test, best_model.predict(X_test))\n",
    "    input_example = X_test[:10]\n",
    "\n",
    "    mlflow.sklearn.log_model(\n",
    "        best_model,\n",
    "        artifact_path=\"cv\",\n",
    "        signature=signature,\n",
    "        input_example=input_example,\n",
    "    )\n",
    "    mlflow.log_params(best_params)\n",
    "    mlflow.log_metrics(metrics)"
   ]
  },
  {
   "cell_type": "code",
   "execution_count": null,
   "metadata": {},
   "outputs": [],
   "source": []
  }
 ],
 "metadata": {
  "kernelspec": {
   "display_name": "Python (.venv_mlflow)",
   "language": "python",
   "name": ".venv_mlflow"
  },
  "language_info": {
   "codemirror_mode": {
    "name": "ipython",
    "version": 3
   },
   "file_extension": ".py",
   "mimetype": "text/x-python",
   "name": "python",
   "nbconvert_exporter": "python",
   "pygments_lexer": "ipython3",
   "version": "3.10.12"
  }
 },
 "nbformat": 4,
 "nbformat_minor": 2
}
